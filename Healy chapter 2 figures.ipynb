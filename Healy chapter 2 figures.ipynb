{
 "cells": [
  {
   "cell_type": "markdown",
   "id": "f598e604",
   "metadata": {},
   "source": [
    "# Healy chapter 2 figures (2022-09-02)\n",
    "\n",
    "_by A. Maurits van der Veen_  \n",
    "\n",
    "_Modification history:_  \n",
    "_2022-08-28 - Initial version_  \n",
    "\n",
    "This notebook provides python code to parallel the R code in Healy's Data Visualization book. \n",
    "\n",
    "It uses the `plotnine` module in python, which replicates most of ggplot.\n"
   ]
  },
  {
   "cell_type": "markdown",
   "id": "e4fa84cb",
   "metadata": {},
   "source": [
    "## 0. General preparation\n",
    "\n",
    "The code relies on several python modules, which may need to be installed first. To do so, uncomment the next X code snippets.\n",
    "\n",
    "- `plotnine` is the main module replicating \n",
    "- `mizani` provides axis label formatting\n",
    "- `pyreadr` reads R-format datasets\n"
   ]
  },
  {
   "cell_type": "code",
   "execution_count": null,
   "id": "c6a8d399",
   "metadata": {
    "scrolled": true
   },
   "outputs": [],
   "source": [
    "# !pip install plotnine\n"
   ]
  },
  {
   "cell_type": "code",
   "execution_count": null,
   "id": "b801a52f",
   "metadata": {
    "scrolled": true
   },
   "outputs": [],
   "source": [
    "# !pip install mizani\n"
   ]
  },
  {
   "cell_type": "code",
   "execution_count": null,
   "id": "3ed81a4d",
   "metadata": {},
   "outputs": [],
   "source": [
    "# !pip install pyreadr\n"
   ]
  },
  {
   "cell_type": "code",
   "execution_count": null,
   "id": "6ece4d72",
   "metadata": {},
   "outputs": [],
   "source": [
    "import math\n",
    "import numpy as np\n",
    "\n",
    "import pandas as pd\n",
    "# import geopandas as gpd  # Not necessary until chapter 7\n",
    "\n",
    "import matplotlib.pyplot as plt\n",
    "\n",
    "from plotnine import *  # alternative: import plotnine as p9 and always use prefix\n",
    "# from mizani.formatters import currency_format (not necessary in this chapter)\n",
    "\n",
    "import pyreadr\n"
   ]
  },
  {
   "cell_type": "markdown",
   "id": "cd618d13",
   "metadata": {},
   "source": [
    "## Chapter 2 - Get started\n",
    "\n",
    "Most of this chapter is general introduction. Only towards the end does a figure get created.\n",
    "\n",
    "### 2.6 Make your first figure"
   ]
  },
  {
   "cell_type": "code",
   "execution_count": null,
   "id": "b8474a89",
   "metadata": {},
   "outputs": [],
   "source": [
    "# Retrieve & load gapminder data\n",
    "\n",
    "localfolder = '/Users/yourname/Downloads/'  # Change to local path\n",
    "remotefolder = 'https://github.com/jennybc/gapminder/blob/main/data/'\n",
    "\n",
    "targetfile = 'gapminder.rdata'\n",
    "pyreadr.download_file(remotefolder + targetfile + '?raw=true', \n",
    "                      localfolder + targetfile)\n",
    "newdata = pyreadr.read_r(localfolder + targetfile)\n",
    "gapminder = newdata['gapminder']\n"
   ]
  },
  {
   "cell_type": "code",
   "execution_count": null,
   "id": "610f292a",
   "metadata": {},
   "outputs": [],
   "source": [
    "# Figure 2.6 - Simple plot, not using ggplot (just basic matplotlib)\n",
    "\n",
    "plt.plot(gapminder['gdpPercap'], gapminder['lifeExp'], '.', color='black')"
   ]
  },
  {
   "cell_type": "code",
   "execution_count": null,
   "id": "309aae1b",
   "metadata": {},
   "outputs": [],
   "source": [
    "# Figure 2.6 again, now using plotnine's ggplot format\n",
    "\n",
    "# Note that due to various default settings, this looks slightly different\n",
    "# from what Healy produces in the book.\n",
    "\n",
    "p = ggplot(data = gapminder,\n",
    "           mapping = aes(x = 'gdpPercap', y = 'lifeExp'))\n",
    "\n",
    "p + geom_point()"
   ]
  },
  {
   "cell_type": "code",
   "execution_count": null,
   "id": "6fc38c31",
   "metadata": {},
   "outputs": [],
   "source": []
  },
  {
   "cell_type": "markdown",
   "id": "86b9ac30",
   "metadata": {},
   "source": [
    "### This completes the figures for chapter 2"
   ]
  },
  {
   "cell_type": "code",
   "execution_count": null,
   "id": "77b36ed3",
   "metadata": {},
   "outputs": [],
   "source": []
  }
 ],
 "metadata": {
  "kernelspec": {
   "display_name": "Python 3 (ipykernel)",
   "language": "python",
   "name": "python3"
  },
  "language_info": {
   "codemirror_mode": {
    "name": "ipython",
    "version": 3
   },
   "file_extension": ".py",
   "mimetype": "text/x-python",
   "name": "python",
   "nbconvert_exporter": "python",
   "pygments_lexer": "ipython3",
   "version": "3.9.9"
  }
 },
 "nbformat": 4,
 "nbformat_minor": 5
}
