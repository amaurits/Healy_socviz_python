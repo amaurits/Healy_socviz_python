{
 "cells": [
  {
   "cell_type": "markdown",
   "id": "f598e604",
   "metadata": {},
   "source": [
    "# Healy chapter 3 figures (2023-08-15)\n",
    "\n",
    "_by A. Maurits van der Veen_  \n",
    "\n",
    "_Modification history:_  \n",
    "_2022-08-28 - Initial version_  \n",
    "_2022-09-02 - Clean-up_  \n",
    "_2023-08-15 - Minor updates_  \n",
    "\n",
    "This notebook provides python code to parallel the R code in Healy's Data Visualization book. \n",
    "\n",
    "It uses the `plotnine` module in python, which replicates most of ggplot.\n"
   ]
  },
  {
   "cell_type": "markdown",
   "id": "857e9526",
   "metadata": {},
   "source": [
    "## 0. General preparation\n",
    "\n",
    "The code relies on several python modules, which may need to be installed first. To do so, uncomment the next code snippet.\n",
    "\n",
    "- `matplotlib` is the baseline plotting program\n",
    "- `plotnine` is the main module replicating ggplot\n",
    "- `mizani` provides axis label formatting (should get automatically installed along with plotnine)\n",
    "- `pyreadr` reads R-format datasets\n"
   ]
  },
  {
   "cell_type": "code",
   "execution_count": null,
   "id": "c6a8d399",
   "metadata": {
    "scrolled": true
   },
   "outputs": [],
   "source": [
    "# !pip install matplotlib plotnine pyreadr\n"
   ]
  },
  {
   "cell_type": "code",
   "execution_count": null,
   "id": "6ece4d72",
   "metadata": {},
   "outputs": [],
   "source": [
    "import math\n",
    "import numpy as np\n",
    "\n",
    "import pandas as pd\n",
    "# import geopandas as gpd  # Not necessary until chapter 7\n",
    "\n",
    "import matplotlib.pyplot as plt\n",
    "%matplotlib inline\n",
    "\n",
    "from plotnine import *  # alternative: import plotnine as p9 and always use prefix\n",
    "from mizani.formatters import currency_format\n",
    "\n",
    "import pyreadr\n"
   ]
  },
  {
   "cell_type": "markdown",
   "id": "27413fcc",
   "metadata": {},
   "source": [
    "## Chapter 3 - Make a plot\n",
    "\n",
    "The headings below correspond to chapter sections in the book. If a heading number is skipped (as is the case for 3.1 and 3.2 here), that is because there are no figures in those sections."
   ]
  },
  {
   "cell_type": "code",
   "execution_count": null,
   "id": "7e1c1a0f",
   "metadata": {},
   "outputs": [],
   "source": [
    "# Retrieve & load gapminder data\n",
    "\n",
    "localfolder = '/Users/yourname/Downloads/'  # Change to local path\n",
    "\n",
    "remotefolder = 'https://github.com/jennybc/gapminder/blob/main/data/'\n",
    "\n",
    "targetfile = 'gapminder.rdata'\n",
    "pyreadr.download_file(remotefolder + targetfile + '?raw=true', \n",
    "                      localfolder + targetfile)\n",
    "newdata = pyreadr.read_r(localfolder + targetfile)\n",
    "gapminder = newdata['gapminder']\n"
   ]
  },
  {
   "cell_type": "code",
   "execution_count": null,
   "id": "097e5121",
   "metadata": {},
   "outputs": [],
   "source": [
    "gapminder.head()"
   ]
  },
  {
   "cell_type": "markdown",
   "id": "056acaed",
   "metadata": {},
   "source": [
    "### 3.3 Mappings link data to things you see"
   ]
  },
  {
   "cell_type": "code",
   "execution_count": null,
   "id": "24f82c54",
   "metadata": {},
   "outputs": [],
   "source": [
    "# Figure 3.3 -- don't panic, this is supposed to be an empty chart!\n",
    "\n",
    "p = ggplot(data = gapminder,\n",
    "           mapping = aes(x = 'gdpPercap', y = 'lifeExp'))\n",
    "p"
   ]
  },
  {
   "cell_type": "markdown",
   "id": "3f081d53",
   "metadata": {},
   "source": [
    "### 3.4 Build your plots layer by layer"
   ]
  },
  {
   "cell_type": "code",
   "execution_count": null,
   "id": "ecdbe849",
   "metadata": {},
   "outputs": [],
   "source": [
    "# Figure 3.4\n",
    "\n",
    "p + geom_point()"
   ]
  },
  {
   "cell_type": "code",
   "execution_count": null,
   "id": "ef202ffb",
   "metadata": {},
   "outputs": [],
   "source": [
    "# Figure 3.5 -- note that plotnine uses a different default method\n",
    "\n",
    "p + geom_smooth()"
   ]
  },
  {
   "cell_type": "code",
   "execution_count": null,
   "id": "a4c06662",
   "metadata": {},
   "outputs": [],
   "source": [
    "# Figure 3.6, but now specifying the method we're interested in\n",
    "# Note: this requires the package scikit-misc\n",
    "\n",
    "p + geom_point() + geom_smooth(method = 'loess')\n"
   ]
  },
  {
   "cell_type": "code",
   "execution_count": null,
   "id": "bb01b109",
   "metadata": {},
   "outputs": [],
   "source": [
    "# Figure 3.7, produced using Healy's code from figure 3.6 \n",
    "# (again, because R's ggplot and plotnine use a different default method)\n",
    "\n",
    "p + geom_point() + geom_smooth()"
   ]
  },
  {
   "cell_type": "code",
   "execution_count": null,
   "id": "945fb7fb",
   "metadata": {},
   "outputs": [],
   "source": [
    "# Figure 3.8 (slightly different method)\n",
    "\n",
    "p + geom_point() + geom_smooth(method = 'glm') + scale_x_log10()"
   ]
  },
  {
   "cell_type": "code",
   "execution_count": null,
   "id": "d23be15b",
   "metadata": {},
   "outputs": [],
   "source": [
    "# Figure 3.9 (slightly different method): addition of dollar signs to x axis\n",
    "\n",
    "# Note that the code for the dollar signs is slighly different\n",
    "# Adding a \\ after the plus sign allows us to run across multiple lines\n",
    "\n",
    "p + geom_point() +\\\n",
    "    geom_smooth(method = 'glm') +\\\n",
    "    scale_x_log10(labels = currency_format(digits=0, big_mark=','))"
   ]
  },
  {
   "cell_type": "markdown",
   "id": "5e65d5dd",
   "metadata": {},
   "source": [
    "### 3.5 Mapping aesthetics vs. setting them"
   ]
  },
  {
   "cell_type": "code",
   "execution_count": null,
   "id": "9eda8870",
   "metadata": {
    "scrolled": true
   },
   "outputs": [],
   "source": [
    "# Attempt at figure 3.10 -- note: this causes an error in plotnine (which is fine!)\n",
    "# The problem is that 'purple' is not a variable in the dataframe\n",
    "\n",
    "# In ggplot, in contrast, although the code is not correct, \n",
    "# a default interpretation ensures that something does get plotted\n",
    "\n",
    "p = ggplot(data = gapminder,\n",
    "           mapping = aes(x = 'gdpPercap', y = 'lifeExp', color = 'purple'))\n",
    "\n",
    "p + geom_point() +\\\n",
    "    geom_smooth(method = 'loess') + \\\n",
    "    scale_x_log10(labels = currency_format(digits=0, big_mark=','))\n"
   ]
  },
  {
   "cell_type": "code",
   "execution_count": null,
   "id": "8cc3b1d5",
   "metadata": {},
   "outputs": [],
   "source": [
    "# Figure 3.11\n",
    "\n",
    "p = ggplot(data = gapminder,\n",
    "           mapping = aes(x = 'gdpPercap', y = 'lifeExp'))\n",
    "\n",
    "p + geom_point(color='purple') + \\\n",
    "    geom_smooth(method = 'loess') + \\\n",
    "    scale_x_log10(labels = currency_format(digits=0, big_mark=','))"
   ]
  },
  {
   "cell_type": "code",
   "execution_count": null,
   "id": "7c4bff31",
   "metadata": {},
   "outputs": [],
   "source": [
    "# Figure 3.12 -- Note that the size parameter in plotnine is calibrated differently!!\n",
    "\n",
    "p + geom_point(alpha=0.3) + \\\n",
    "    geom_smooth(color='orange', se=False, size=8, method='lm') + \\\n",
    "    scale_x_log10(labels = currency_format(digits=0, big_mark=','))"
   ]
  },
  {
   "cell_type": "code",
   "execution_count": null,
   "id": "20d055b1",
   "metadata": {},
   "outputs": [],
   "source": [
    "# Figure 3.12 again, with a different size parameter\n",
    "\n",
    "p + geom_point(alpha=0.3) + \\\n",
    "    geom_smooth(color='orange', se=False, size=2, method='lm') + \\\n",
    "    scale_x_log10(labels = currency_format(digits=0, big_mark=','))"
   ]
  },
  {
   "cell_type": "code",
   "execution_count": null,
   "id": "a7733673",
   "metadata": {},
   "outputs": [],
   "source": [
    "# An attempt at figure 3.13\n",
    "# This fails because plotnine does not handle subtitles\n",
    "# matplotlib does allow them, so if we want it is easy to add them at the end using plt\n",
    "# (see below)\n",
    "\n",
    "try:\n",
    "    p + geom_point(alpha=0.3) + \\\n",
    "        geom_smooth(se=False, size=2, method='lm') + \\\n",
    "        scale_x_log10(labels = currency_format(digits=0, big_mark=',')) + \\\n",
    "        labs(x = 'GDP per capita',\n",
    "             y = 'Life expectancy in years',\n",
    "             title = 'Economic growth and life expectancy',\n",
    "             subtitle = 'Data points are country-years',\n",
    "             caption = 'Source: Gapminder')\n",
    "except Exception as e:\n",
    "    print(e)"
   ]
  },
  {
   "cell_type": "code",
   "execution_count": null,
   "id": "e90e8541",
   "metadata": {},
   "outputs": [],
   "source": [
    "# Figure 3.13 -- Instead of a subtitle, simply add a second line to the title\n",
    "# (by inserting '\\n')\n",
    "\n",
    "p + geom_point(alpha=0.3) + \\\n",
    "    geom_smooth(se=False, size=2, method='lm') + \\\n",
    "    scale_x_log10(labels = currency_format(digits=0, big_mark=',')) + \\\n",
    "    labs(x = 'GDP per capita',\n",
    "         y = 'Life expectancy in years',\n",
    "         title = 'Economic growth and life expectancy\\nData points are country-years',\n",
    "         caption = 'Source: Gapminder')\n"
   ]
  },
  {
   "cell_type": "code",
   "execution_count": null,
   "id": "0bd14fc3",
   "metadata": {},
   "outputs": [],
   "source": [
    "# Figure 3.13 -- Extract into matplotlib,\n",
    "# then add title (suptitle) and subtitle (title), and adjust fontsize of the latter\n",
    "# This can easily be adjusted further\n",
    "# Optimal positioning may take some playing around with y values\n",
    "\n",
    "p_object = \\\n",
    "p + geom_point(alpha=0.3) + \\\n",
    "    geom_smooth(se=False, size=2, method='lm') + \\\n",
    "    scale_x_log10(labels = currency_format(digits=0, big_mark=',')) + \\\n",
    "    labs(x = 'GDP per capita',\n",
    "         y = 'Life expectancy in years',\n",
    "         caption = 'Source: Gapminder')\n",
    "\n",
    "fig = p_object.draw() # get the matplotlib figure object\n",
    "ax = fig.axes[0] # get the matplotlib axis (may be more than one if faceted)\n",
    "\n",
    "fig.suptitle(\"Economic growth and life expectancy\", y=1)\n",
    "ax.set_title('Data points are country-years', y=0.95, fontsize=10)\n",
    "\n",
    "fig"
   ]
  },
  {
   "cell_type": "markdown",
   "id": "ac9d06f8",
   "metadata": {},
   "source": [
    "Healy drops the labels from the next few figures, but there is no reason to."
   ]
  },
  {
   "cell_type": "code",
   "execution_count": null,
   "id": "1efb62d2",
   "metadata": {},
   "outputs": [],
   "source": [
    "# Figure 3.14\n",
    "\n",
    "p2 = ggplot(data = gapminder,\n",
    "            mapping = aes(x = 'gdpPercap', y = 'lifeExp', \n",
    "                          color = 'continent'))\n",
    "\n",
    "p2 + geom_point(alpha=0.3) + \\\n",
    "    geom_smooth(method='loess') + \\\n",
    "    scale_x_log10(labels = currency_format(digits=0, big_mark=',')) + \\\n",
    "    labs(x = 'GDP per capita',\n",
    "         y = 'Life expectancy in years',\n",
    "         title = 'Economic growth and life expectancy\\nData points are country-years',\n",
    "         caption = 'Source: Gapminder')\n"
   ]
  },
  {
   "cell_type": "code",
   "execution_count": null,
   "id": "13a8fc63",
   "metadata": {},
   "outputs": [],
   "source": [
    "# Figure 3.15 -- adding a \"fill\" aesthetic to fill the error ribbon\n",
    "# Note the difference in legend compared to figure 3.14\n",
    "\n",
    "p3 = ggplot(data = gapminder,\n",
    "            mapping = aes(x = 'gdpPercap', y = 'lifeExp', \n",
    "                          color = 'continent', fill = 'continent'))\n",
    "\n",
    "p3 + geom_point(alpha=0.3) + \\\n",
    "    geom_smooth(method='loess') + \\\n",
    "    scale_x_log10(labels = currency_format(digits=0, big_mark=',')) + \\\n",
    "    labs(x = 'GDP per capita',\n",
    "         y = 'Life expectancy in years',\n",
    "         title = 'Economic growth and life expectancy\\nData points are country-years',\n",
    "         caption = 'Source: Gapminder')\n"
   ]
  },
  {
   "cell_type": "code",
   "execution_count": null,
   "id": "11b1e442",
   "metadata": {},
   "outputs": [],
   "source": [
    "# Figure 3.16 -- commenting out the labels in order to show the difference, and removing continent fill\n",
    "# Note the difference in legend compared to figures 3.14 & 3.15 (back to dots only)\n",
    "\n",
    "p + geom_point(mapping = aes(color = 'continent')) + \\\n",
    "    geom_smooth(method='loess') + \\\n",
    "    scale_x_log10(labels = currency_format(digits=0, big_mark=',')) # + \\\n",
    "#     labs(x = 'GDP per capita',\n",
    "#          y = 'Life expectancy in years',\n",
    "#          title = 'Economic growth and life expectancy\\nData points are country-years',\n",
    "#          caption = 'Source: Gapminder')\n"
   ]
  },
  {
   "cell_type": "markdown",
   "id": "298cbad5",
   "metadata": {},
   "source": [
    "In plotnine it is less straightforward to define variable transformations on the fly than it is in R's ggplot.  \n",
    "Here we define a logged variable ahead of time."
   ]
  },
  {
   "cell_type": "code",
   "execution_count": null,
   "id": "3fa9a060",
   "metadata": {},
   "outputs": [],
   "source": [
    "gapminder['logpop'] = gapminder.apply(lambda row: math.log(row['pop']), axis = 1)"
   ]
  },
  {
   "cell_type": "code",
   "execution_count": null,
   "id": "a04c288b",
   "metadata": {},
   "outputs": [],
   "source": [
    "# Figure 3.17 -- note that plotnine uses a different default color scale\n",
    "\n",
    "p + geom_point(mapping = aes(color = 'logpop')) + \\\n",
    "    geom_smooth(method = 'loess') + \\\n",
    "    scale_x_log10(labels = currency_format(digits=0, big_mark=',')) # + \\\n",
    "#     labs(x = 'GDP per capita',\n",
    "#          y = 'Life expectancy in years',\n",
    "#          title = 'Economic growth and life expectancy\\nData points are country-years',\n",
    "#          caption = 'Source: Gapminder')\n"
   ]
  },
  {
   "cell_type": "markdown",
   "id": "ca6d0830",
   "metadata": {},
   "source": [
    "### 3.7 Save your work\n"
   ]
  },
  {
   "cell_type": "code",
   "execution_count": null,
   "id": "251735f0",
   "metadata": {},
   "outputs": [],
   "source": [
    "# Save a figure as a variable, rather than displaying it\n",
    "\n",
    "myfigure = \\\n",
    "p + geom_point(mapping = aes(color = 'logpop')) + \\\n",
    "    geom_smooth(method='loess') + \\\n",
    "    scale_x_log10(labels = currency_format(digits=0, big_mark=',')) + \\\n",
    "    labs(x = 'GDP per capita',\n",
    "         y = 'Life expectancy in years',\n",
    "         title = 'Economic growth and life expectancy\\nData points are country-years',\n",
    "         caption = 'Source: Gapminder')\n"
   ]
  },
  {
   "cell_type": "code",
   "execution_count": null,
   "id": "07b4e871",
   "metadata": {},
   "outputs": [],
   "source": [
    "# To set the size of a figure, use the theme option\n",
    "\n",
    "myfigure + theme(figure_size = (8, 3))"
   ]
  },
  {
   "cell_type": "code",
   "execution_count": null,
   "id": "6e7c0bbb",
   "metadata": {},
   "outputs": [],
   "source": [
    "# To save a figure, simply call the 'save' method.\n",
    "# The extension specified will drive the format in which it is saved\n",
    "\n",
    "myfigure.save(filename = 'myfigure.png')"
   ]
  },
  {
   "cell_type": "code",
   "execution_count": null,
   "id": "8fd04584",
   "metadata": {},
   "outputs": [],
   "source": [
    "myfigure.save(filename = 'myfigure.pdf')"
   ]
  },
  {
   "cell_type": "code",
   "execution_count": null,
   "id": "f0123e94",
   "metadata": {},
   "outputs": [],
   "source": [
    "# You can of course specify the full pathname\n",
    "import os\n",
    "\n",
    "figurefolder = localfolder + 'Figures/'\n",
    "os.makedirs(figurefolder)  # create folder and any necessary parentfolders"
   ]
  },
  {
   "cell_type": "code",
   "execution_count": null,
   "id": "d7769148",
   "metadata": {},
   "outputs": [],
   "source": [
    "# It is also possible to adjust figure size at this point\n",
    "\n",
    "myfigure.save(filename = figurefolder + 'myfigure.jpg', \n",
    "              width=8, height=10, units='in')"
   ]
  },
  {
   "cell_type": "code",
   "execution_count": null,
   "id": "e830ebab",
   "metadata": {},
   "outputs": [],
   "source": []
  },
  {
   "cell_type": "markdown",
   "id": "e6f53870",
   "metadata": {},
   "source": [
    "### This completes the figures for chapter 3"
   ]
  },
  {
   "cell_type": "code",
   "execution_count": null,
   "id": "ff6c1e30",
   "metadata": {},
   "outputs": [],
   "source": []
  }
 ],
 "metadata": {
  "kernelspec": {
   "display_name": "Python 3 (ipykernel)",
   "language": "python",
   "name": "python3"
  },
  "language_info": {
   "codemirror_mode": {
    "name": "ipython",
    "version": 3
   },
   "file_extension": ".py",
   "mimetype": "text/x-python",
   "name": "python",
   "nbconvert_exporter": "python",
   "pygments_lexer": "ipython3",
   "version": "3.10.12"
  }
 },
 "nbformat": 4,
 "nbformat_minor": 5
}
