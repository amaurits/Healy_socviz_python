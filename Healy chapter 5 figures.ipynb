{
 "cells": [
  {
   "cell_type": "markdown",
   "id": "f598e604",
   "metadata": {},
   "source": [
    "# Healy chapter 5 figures (2022-09-02)\n",
    "\n",
    "_by A. Maurits van der Veen_  \n",
    "\n",
    "_Modification history:_  \n",
    "_2022-08-20 - Initial version_  \n",
    "\n",
    "This notebook provides python code to parallel the R code in Healy's Data Visualization book. \n",
    "\n",
    "It uses the `plotnine` module in python, which replicates most of ggplot.\n"
   ]
  },
  {
   "cell_type": "markdown",
   "id": "857e9526",
   "metadata": {},
   "source": [
    "## 0. General preparation\n",
    "\n",
    "The code relies on several python modules, which may need to be installed first. To do so, uncomment the next X code snippets.\n",
    "\n",
    "- `plotnine` is the main module replicating \n",
    "- `mizani` provides axis label formatting\n",
    "- `pyreadr` reads R-format datasets\n",
    "- `adjustText` is used to move text around to avoid overlapping (alternative to ggrepel)\n"
   ]
  },
  {
   "cell_type": "code",
   "execution_count": null,
   "id": "c6a8d399",
   "metadata": {
    "scrolled": true
   },
   "outputs": [],
   "source": [
    "# !pip install plotnine\n"
   ]
  },
  {
   "cell_type": "code",
   "execution_count": null,
   "id": "b801a52f",
   "metadata": {
    "scrolled": true
   },
   "outputs": [],
   "source": [
    "# !pip install mizani\n"
   ]
  },
  {
   "cell_type": "code",
   "execution_count": null,
   "id": "3ed81a4d",
   "metadata": {},
   "outputs": [],
   "source": [
    "# !pip install pyreadr\n"
   ]
  },
  {
   "cell_type": "code",
   "execution_count": null,
   "id": "3d77f944",
   "metadata": {},
   "outputs": [],
   "source": [
    "# !pip install adjustText\n"
   ]
  },
  {
   "cell_type": "code",
   "execution_count": null,
   "id": "6ece4d72",
   "metadata": {},
   "outputs": [],
   "source": [
    "import math\n",
    "import numpy as np\n",
    "\n",
    "import pandas as pd\n",
    "# import geopandas as gpd  # Not necessary until chapter 7\n",
    "\n",
    "import matplotlib.pyplot as plt\n",
    "\n",
    "from plotnine import *  # alternative: import plotnine as p9 and always use prefix\n",
    "from mizani.formatters import currency_format, percent_format\n",
    "\n",
    "import adjustText\n",
    "\n",
    "import pyreadr\n"
   ]
  },
  {
   "cell_type": "markdown",
   "id": "6fb26d77",
   "metadata": {},
   "source": [
    "## Chapter 5 - Graph tables, add labels, make notes\n",
    "\n",
    "\n",
    "The headings below correspond to chapter sections in the book, with the same titles. Where the title is purely R-specific (as in section 5.1 here), I have added an adjustment in italics."
   ]
  },
  {
   "cell_type": "code",
   "execution_count": null,
   "id": "53f535b1",
   "metadata": {},
   "outputs": [],
   "source": [
    "localfolder = '/Users/yourname/Downloads/'  # Change to local path\n"
   ]
  },
  {
   "cell_type": "code",
   "execution_count": null,
   "id": "5cd88b8f",
   "metadata": {},
   "outputs": [],
   "source": [
    "# Retrieve & load data from the website associated with Healy's book\n",
    "\n",
    "remotefolder = 'https://github.com/kjhealy/socviz/blob/master/data/'\n",
    "\n",
    "datasetname = 'gss_sm'\n",
    "targetfile = datasetname + '.rda'\n",
    "pyreadr.download_file(remotefolder + targetfile + '?raw=true', localfolder + targetfile)\n",
    "newdata = pyreadr.read_r(localfolder + targetfile)\n",
    "gss_sm = newdata[datasetname]\n",
    "\n",
    "datasetname = 'organdata'\n",
    "targetfile = datasetname + '.rda'\n",
    "pyreadr.download_file(remotefolder + targetfile + '?raw=true', localfolder + targetfile)\n",
    "newdata = pyreadr.read_r(localfolder + targetfile)\n",
    "organdata = newdata[datasetname]\n",
    "\n",
    "datasetname = 'elections_historic'\n",
    "targetfile = datasetname + '.rda'\n",
    "pyreadr.download_file(remotefolder + targetfile + '?raw=true', localfolder + targetfile)\n",
    "newdata = pyreadr.read_r(localfolder + targetfile)\n",
    "elections_historic = newdata[datasetname]\n"
   ]
  },
  {
   "cell_type": "code",
   "execution_count": null,
   "id": "cdc19c95",
   "metadata": {},
   "outputs": [],
   "source": [
    "# in gss_sm, replace Null religion by 'NA': now NA will get plotted, as in the book\n",
    "\n",
    "religions = ['Protestant', 'Catholic', 'Jewish', 'None', 'Other']\n",
    "\n",
    "gss_smY = gss_sm.copy()\n",
    "gss_smY['religion'] = gss_smY.apply(lambda row: 'NA' if row['religion'] not in religions else row['religion'], axis=1)"
   ]
  },
  {
   "cell_type": "markdown",
   "id": "84dbfbe7",
   "metadata": {},
   "source": [
    "### 5.1 Use pipes to summarize data _(no pipes in python, use pandas' groupby instead)_\n",
    "\n",
    "Note: in pandas, we generally use groupby instead."
   ]
  },
  {
   "cell_type": "code",
   "execution_count": null,
   "id": "10d2d004",
   "metadata": {},
   "outputs": [],
   "source": [
    "# Keep only bigregion and religion variables, and get the size of each cell\n",
    "rel_by_region = gss_smY[['bigregion', 'religion']].groupby(['bigregion', 'religion']).size().reset_index(name='N')\n",
    "\n",
    "# Get subtotals by region, to prepare for getting proportions\n",
    "regionsize = dict()\n",
    "for regionname, regiongroup in rel_by_region.groupby('bigregion'):\n",
    "    regionsize[regionname] = regiongroup['N'].sum()\n",
    "\n",
    "# Get proportion, and then multiply and round to get clean percentage values\n",
    "rel_by_region['freq'] = rel_by_region.apply(lambda row: row['N']/regionsize[row['bigregion']], axis=1)\n",
    "rel_by_region['pct'] = round(rel_by_region['freq'] * 100, 0).astype(int)\n"
   ]
  },
  {
   "cell_type": "code",
   "execution_count": null,
   "id": "dfa6d7c4",
   "metadata": {
    "scrolled": true
   },
   "outputs": [],
   "source": [
    "# Compare result against table in Healy (pp. 98-99).\n",
    "# Note that sorting is again done alphabetically by region and then religion\n",
    "\n",
    "rel_by_region"
   ]
  },
  {
   "cell_type": "code",
   "execution_count": null,
   "id": "3d08165c",
   "metadata": {
    "scrolled": false
   },
   "outputs": [],
   "source": [
    "# Figure 5.2\n",
    "\n",
    "p = ggplot(rel_by_region, aes(x = 'bigregion', y = 'pct', fill = 'religion'))\n",
    "\n",
    "p + geom_col(position = 'dodge2') + \\\n",
    "    labs(x = 'Region', y = 'Percent', fill = 'Religion') + \\\n",
    "    theme(legend_position = 'top')"
   ]
  },
  {
   "cell_type": "code",
   "execution_count": null,
   "id": "d585c05e",
   "metadata": {},
   "outputs": [],
   "source": [
    "# Set up the data and basic aesthetic, to re-use repeatedly below\n",
    "\n",
    "p = ggplot(rel_by_region, \n",
    "           aes(x = 'religion', y = 'pct', fill = 'religion'))\n"
   ]
  },
  {
   "cell_type": "code",
   "execution_count": null,
   "id": "c5acfe00",
   "metadata": {
    "scrolled": false
   },
   "outputs": [],
   "source": [
    "# Figure 5.3\n",
    "# Note the use of nrow and of the figure_size option \n",
    "# to come closer to replicating the look in the book\n",
    "\n",
    "# Note also that instead of putting \\ after every + to allow us to run across\n",
    "# multiple lines, we can simply enclose the whole expression in parentheses\n",
    "\n",
    "(p + geom_col(position = 'dodge2') + \n",
    "     labs(x = '', y = 'Percent', fill = 'Religion') + \n",
    "     guides(fill = False) + \n",
    "     coord_flip() +\n",
    "     facet_wrap('bigregion', nrow=1) +\n",
    "     theme(figure_size = (10, 3)))"
   ]
  },
  {
   "cell_type": "markdown",
   "id": "385c7ea5",
   "metadata": {},
   "source": [
    "### 5.2 Continuous variables by group or category\n",
    "\n",
    "Here we shift to using a new dataset."
   ]
  },
  {
   "cell_type": "code",
   "execution_count": null,
   "id": "84d02d0b",
   "metadata": {},
   "outputs": [],
   "source": [
    "# Extract a sample of columns and rows to inspect what the data look like\n",
    "cols2keep = ['country', 'year', 'donors', 'pop', 'pop_dens', 'gdp']\n",
    "\n",
    "organdata_sample = organdata[cols2keep].sample(n = 10)\n",
    "organdata_sample"
   ]
  },
  {
   "cell_type": "code",
   "execution_count": null,
   "id": "df0ac65e",
   "metadata": {},
   "outputs": [],
   "source": [
    "# Figure 5.4\n",
    "\n",
    "p = ggplot(data = organdata, \n",
    "           mapping = aes(x = 'year', y = 'donors'))\n",
    "\n",
    "(p + geom_point())"
   ]
  },
  {
   "cell_type": "code",
   "execution_count": null,
   "id": "9ea78ed3",
   "metadata": {},
   "outputs": [],
   "source": [
    "# Figure 5.5\n",
    "\n",
    "p + geom_line(aes(group = 'country')) + \\\n",
    "    facet_wrap('country')"
   ]
  },
  {
   "cell_type": "code",
   "execution_count": null,
   "id": "d345f983",
   "metadata": {},
   "outputs": [],
   "source": [
    "# Figure 5.6 -- Note that x labels are not automatically made diagonal and thus overlap\n",
    "\n",
    "p = ggplot(data = organdata, \n",
    "           mapping = aes(x = 'country', y = 'donors'))\n",
    "\n",
    "p + geom_boxplot()"
   ]
  },
  {
   "cell_type": "code",
   "execution_count": null,
   "id": "af73c1a8",
   "metadata": {},
   "outputs": [],
   "source": [
    "# Figure 5.6 again, now using a theme option\n",
    "# to make country names display diagonally\n",
    "\n",
    "p + geom_boxplot() +\\\n",
    "    theme(axis_text_x = element_text(rotation=45, hjust=1))"
   ]
  },
  {
   "cell_type": "code",
   "execution_count": null,
   "id": "9907d7fd",
   "metadata": {},
   "outputs": [],
   "source": [
    "# Figure 5.7\n",
    "\n",
    "p + geom_boxplot() + coord_flip()"
   ]
  },
  {
   "cell_type": "code",
   "execution_count": null,
   "id": "72349604",
   "metadata": {},
   "outputs": [],
   "source": [
    "# In preparation for figure 5.8, sort countries by mean number of donors \n",
    "# (averaged across years)\n",
    "\n",
    "# In ggplot it is possible to do this on the fly\n",
    "# Note: plotnine has aes(x='reorder(var2, value)' option, usable when\n",
    "# we have a simple 'sort x by value of y' setup (not here, since we use averages)\n",
    "\n",
    "meandonors = []\n",
    "for countryname, countrydata in organdata.groupby('country'):\n",
    "    meandonors.append((countrydata['donors'].mean(), countryname))\n",
    "    \n",
    "countrylist = [country for _, country in sorted(meandonors)]\n",
    "country_cat = pd.Categorical(organdata['country'], categories=countrylist)\n",
    "\n",
    "# assign to a new column in the DataFrame\n",
    "organdata = organdata.assign(country_cat = country_cat)\n"
   ]
  },
  {
   "cell_type": "code",
   "execution_count": null,
   "id": "13b6fbf7",
   "metadata": {},
   "outputs": [],
   "source": [
    "# Figure 5.8 \n",
    "\n",
    "p = ggplot(data = organdata, \n",
    "           mapping = aes(x = 'country_cat', y = 'donors'))\n",
    "\n",
    "p + geom_boxplot() +\\\n",
    "    labs(x = '') +\\\n",
    "    coord_flip()"
   ]
  },
  {
   "cell_type": "code",
   "execution_count": null,
   "id": "04ad2f04",
   "metadata": {},
   "outputs": [],
   "source": [
    "# Figure 5.8 redone with geom_violin, as suggested in the text\n",
    "\n",
    "p + geom_violin() +\\\n",
    "    labs(x = '') +\\\n",
    "    coord_flip()"
   ]
  },
  {
   "cell_type": "code",
   "execution_count": null,
   "id": "ba25eb09",
   "metadata": {},
   "outputs": [],
   "source": [
    "# Figure 5.9\n",
    "\n",
    "p = ggplot(data = organdata, \n",
    "           mapping = aes(x = 'country_cat', y = 'donors', fill='world'))\n",
    "\n",
    "p + geom_boxplot() + \\\n",
    "    labs(x = '') + \\\n",
    "    coord_flip() + \\\n",
    "    theme(legend_position = 'top')"
   ]
  },
  {
   "cell_type": "code",
   "execution_count": null,
   "id": "c728beb4",
   "metadata": {},
   "outputs": [],
   "source": [
    "# Figure 5.10\n",
    "\n",
    "p = ggplot(data = organdata, mapping = aes(x = 'country_cat', \n",
    "                                           y = 'donors', \n",
    "                                           color = 'world'))\n",
    "\n",
    "(p + geom_point() + \n",
    "     labs(x = '') + \n",
    "     coord_flip() + \n",
    "     theme(legend_position = 'top'))"
   ]
  },
  {
   "cell_type": "code",
   "execution_count": null,
   "id": "b67e466c",
   "metadata": {},
   "outputs": [],
   "source": [
    "# Figure 5.11\n",
    "\n",
    "(p + geom_jitter() + \n",
    "     labs(x = '') + \n",
    "     coord_flip() + \n",
    "     theme(legend_position = 'top'))"
   ]
  },
  {
   "cell_type": "code",
   "execution_count": null,
   "id": "81c246d8",
   "metadata": {},
   "outputs": [],
   "source": [
    "# Figure 5.12\n",
    "\n",
    "p + geom_jitter(position = position_jitter(width=0.15)) + \\\n",
    "    labs(x = '') + \\\n",
    "    coord_flip() + \\\n",
    "    theme(legend_position = 'top')"
   ]
  },
  {
   "cell_type": "code",
   "execution_count": null,
   "id": "15026da7",
   "metadata": {},
   "outputs": [],
   "source": [
    "# Check column names of the organdata dataframe\n",
    "organdata.columns"
   ]
  },
  {
   "cell_type": "code",
   "execution_count": null,
   "id": "455b6457",
   "metadata": {},
   "outputs": [],
   "source": [
    "# Generate a dataframe with country-level summaries\n",
    "# In the book, this is done on p. 110, using a pipeline\n",
    "# Here, we use pandas' groupby\n",
    "groupcols = ['consent_law', 'country']\n",
    "\n",
    "# Get means and standard deviations for variables of interest.\n",
    "# Note: For some reason 'gdp' and 'cerebvas' get dropped if we do it all once!\n",
    "# This should not happen, but is easy enough to work around by doing them separately\n",
    "cols2keep = ['donors', 'health', 'roads']  \n",
    "organdata_grouped = organdata[groupcols + cols2keep].groupby(groupcols)\n",
    "organdata_means = organdata_grouped.aggregate(np.mean).reset_index()\n",
    "organdata_stds = organdata_grouped.aggregate(np.std).reset_index()\n",
    "\n",
    "cols2keep2 = ['gdp', 'cerebvas']\n",
    "organdata_grouped2 = organdata[groupcols + cols2keep2].groupby(groupcols)\n",
    "organdata_means2 = organdata_grouped2.aggregate(np.mean).reset_index()\n",
    "organdata_stds2 = organdata_grouped2.aggregate(np.std).reset_index()\n",
    "\n",
    "# Now merge the two sets of variables-of-interest together\n",
    "organdata_means = organdata_means.merge(organdata_means2, left_on=groupcols,\n",
    "                                                          right_on=groupcols)\n",
    "organdata_stds = organdata_stds.merge(organdata_stds2, left_on=groupcols,\n",
    "                                                          right_on=groupcols)\n",
    "\n",
    "# Finally, merge the two summary dfs together, adjusting names by adding suffixes\n",
    "by_country = organdata_means.merge(organdata_stds, left_on=groupcols,\n",
    "                                          right_on=groupcols, suffixes=('_mean', '_std'))\n"
   ]
  },
  {
   "cell_type": "code",
   "execution_count": null,
   "id": "2de13d59",
   "metadata": {},
   "outputs": [],
   "source": [
    "# Add the sorted donor list again to control ordering\n",
    "country_cat = pd.Categorical(by_country['country'], categories=countrylist)\n",
    "\n",
    "# assign to a new column in the DataFrame\n",
    "by_country = by_country.assign(country_cat = country_cat)\n"
   ]
  },
  {
   "cell_type": "code",
   "execution_count": null,
   "id": "09cc6ba0",
   "metadata": {},
   "outputs": [],
   "source": [
    "# Display by_country (comparable to table on p. 112)\n",
    "by_country"
   ]
  },
  {
   "cell_type": "code",
   "execution_count": null,
   "id": "2cbcf2a2",
   "metadata": {},
   "outputs": [],
   "source": [
    "# Figure 5.13\n",
    "# Note that in the book the top and bottom dots are on the overall frame of the figure, \n",
    "# which is clunky. Plotnine's default is better\n",
    "\n",
    "p = ggplot(data = by_country,\n",
    "           mapping = aes(x = 'donors_mean', y = 'country_cat', color='consent_law'))\n",
    "\n",
    "(p + geom_point(size = 3) +\n",
    "     labs(x = 'Donor procurement rate',\n",
    "          y = '',\n",
    "          color = 'Consent law') +\n",
    "     theme(legend_position = 'top')\n",
    ")"
   ]
  },
  {
   "cell_type": "code",
   "execution_count": null,
   "id": "52b8180f",
   "metadata": {},
   "outputs": [],
   "source": [
    "# Figure 5.14\n",
    "\n",
    "p = ggplot(data = by_country,\n",
    "           mapping = aes(x = 'donors_mean', y = 'country_cat'))\n",
    "\n",
    "(p + geom_point(size = 3) +\n",
    "     labs(x = 'Donor procurement rate',\n",
    "          y = '') +\n",
    "     facet_wrap('consent_law', scales = 'free_y', ncol = 1) +\n",
    "     theme(figure_size = (4, 6))\n",
    ")"
   ]
  },
  {
   "cell_type": "code",
   "execution_count": null,
   "id": "ccb9e3c3",
   "metadata": {},
   "outputs": [],
   "source": [
    "# Figure 5.15\n",
    "\n",
    "by_country['donors_low'] = by_country['donors_mean'] - by_country['donors_std']\n",
    "by_country['donors_high'] = by_country['donors_mean'] + by_country['donors_std']\n",
    "\n",
    "p = ggplot(data = by_country,\n",
    "           mapping = aes(x = 'country_cat', y = 'donors_mean'))\n",
    "\n",
    "(p + geom_pointrange(mapping = aes(ymin = 'donors_low',\n",
    "                                   ymax = 'donors_high')) +\n",
    "     labs(x = '',\n",
    "          y = 'Donor procurement rate') +\n",
    "     coord_flip()\n",
    ")"
   ]
  },
  {
   "cell_type": "markdown",
   "id": "12a94903",
   "metadata": {},
   "source": [
    "### 5.3 Plot text directly"
   ]
  },
  {
   "cell_type": "code",
   "execution_count": null,
   "id": "3e8dd814",
   "metadata": {},
   "outputs": [],
   "source": [
    "# Figure 5.16\n",
    "\n",
    "p = ggplot(data = by_country, mapping = aes(x = 'roads_mean', y = 'donors_mean'))\n",
    "\n",
    "p + geom_point() + geom_text(mapping = aes(label = 'country'))"
   ]
  },
  {
   "cell_type": "code",
   "execution_count": null,
   "id": "18fcb9b0",
   "metadata": {},
   "outputs": [],
   "source": [
    "# Figure 5.17\n",
    "\n",
    "p + geom_point() + geom_text(mapping = aes(label = 'country'),\n",
    "                             ha = 'left')"
   ]
  },
  {
   "cell_type": "code",
   "execution_count": null,
   "id": "5777092d",
   "metadata": {},
   "outputs": [],
   "source": [
    "# Figure 5.18\n",
    "# Note: instead of using ggrepel, we use the adjust_text option in plotnine,\n",
    "# which requires the module adjustText (imported at the top)\n",
    "# Also, we boost the top of the x scale a bit to make sure the text labels don't get cut off\n",
    "# To avoid unnecessary legend on the right, the show_legend = False is necessary in geom_label\n",
    "\n",
    "p = ggplot(elections_historic, aes(x = 'popular_pct', y = 'ec_pct'))\n",
    "\n",
    "# Define some text strings\n",
    "p_title = 'Presidential elections: Popular & Electoral College margins'\n",
    "p_subtitle = '1824-2016'\n",
    "p_caption = 'Data for 2016 are provisional'\n",
    "x_label = \"Winner's share of popular vote\"\n",
    "y_label = \"Winner's share of Electoral College votes\"\n",
    "\n",
    "(p + geom_hline(yintercept = 0.5, size = 1.4, color = 'gray') +\n",
    "     geom_vline(xintercept = 0.5, size = 1.4, color = 'gray') +\n",
    "     geom_point() +  \n",
    "     geom_label(aes(label = \"winner_label\", size = 5),\n",
    "                adjust_text = {'expand_points': (1.5, 1.5),\n",
    "                               'arrowprops': {'arrowstyle': '-'}},\n",
    "                show_legend = False) + \n",
    "     scale_x_continuous(limits = (0.30, 0.64), labels = percent_format()) +\n",
    "     scale_y_continuous(labels = percent_format()) +\n",
    "     labs(x = x_label, y = y_label,\n",
    "          title = p_title + '\\n' + p_subtitle, caption = p_caption) +\n",
    "     theme(figure_size = (10, 10))\n",
    ")"
   ]
  },
  {
   "cell_type": "markdown",
   "id": "12580796",
   "metadata": {},
   "source": [
    "### 5.4 Label outliers"
   ]
  },
  {
   "cell_type": "code",
   "execution_count": null,
   "id": "47d3c008",
   "metadata": {},
   "outputs": [],
   "source": [
    "# Figure 5.19a\n",
    "\n",
    "p = ggplot(data = by_country,\n",
    "           mapping = aes(x = 'gdp_mean', y = 'health_mean'))\n",
    "\n",
    "p + geom_point() + \\\n",
    "    geom_label(data = by_country[by_country['gdp_mean'] > 25000],\n",
    "               mapping = aes(label = \"country\", size = 5),\n",
    "               adjust_text = {'expand_points': (1.5, 1.5),\n",
    "                           'arrowprops': {'arrowstyle': '-'}},\n",
    "               show_legend = False)\n"
   ]
  },
  {
   "cell_type": "code",
   "execution_count": null,
   "id": "15c4b1f9",
   "metadata": {},
   "outputs": [],
   "source": [
    "# Figure 5.19b\n",
    "\n",
    "p + geom_point() + \\\n",
    "    geom_label(data = by_country[(by_country['gdp_mean'] > 25000) | \n",
    "                                 (by_country['health_mean'] < 1500) |\n",
    "                                 (by_country['country'] == 'Belgium')],\n",
    "               mapping = aes(label = \"country\", size = 5),\n",
    "               adjust_text = {'expand_points': (1.5, 1.5),\n",
    "                           'arrowprops': {'arrowstyle': '-'}},\n",
    "               show_legend = False)\n"
   ]
  },
  {
   "cell_type": "code",
   "execution_count": null,
   "id": "72477994",
   "metadata": {},
   "outputs": [],
   "source": [
    "# New variable for figure 5.20\n",
    "# Note: the text says 1998, but to duplicate the graph, we need to use 1988\n",
    "\n",
    "organdata['ind'] = organdata.apply(lambda row: row['ccode'] in ('Ita', 'Spa') and \\\n",
    "                                               row['year'] is not None and row['year'].year >= 1988, axis = 1)"
   ]
  },
  {
   "cell_type": "code",
   "execution_count": null,
   "id": "6fe4368c",
   "metadata": {},
   "outputs": [],
   "source": [
    "# Figure 5.20\n",
    "\n",
    "p = ggplot(data = organdata,\n",
    "           mapping = aes(x = 'roads', y = 'donors', color = 'ind'))\n",
    "\n",
    "(p + geom_point() +\n",
    "     geom_label(data = organdata[organdata['ind']],\n",
    "                mapping = aes(label = \"ccode\", size = 5),\n",
    "                adjust_text = {'expand_points': (1.5, 1.5),\n",
    "                               'arrowprops': {'arrowstyle': '-'}},\n",
    "                show_legend = False) +\n",
    "     guides(color = False)\n",
    ")"
   ]
  },
  {
   "cell_type": "markdown",
   "id": "8e72666b",
   "metadata": {},
   "source": [
    "### 5.5 Write and draw in the plot area"
   ]
  },
  {
   "cell_type": "code",
   "execution_count": null,
   "id": "22719783",
   "metadata": {},
   "outputs": [],
   "source": [
    "# Figure 5.21\n",
    "\n",
    "p = ggplot(data = organdata,\n",
    "           mapping = aes(x = 'roads', y = 'donors'))\n",
    "\n",
    "(p + geom_point() +\n",
    "     annotate(geom = 'text', x = 91, y = 33, \n",
    "              label = 'A surprisingly high\\nrecovery rate',\n",
    "              ha = 'left')\n",
    ")"
   ]
  },
  {
   "cell_type": "code",
   "execution_count": null,
   "id": "42c79cc4",
   "metadata": {},
   "outputs": [],
   "source": [
    "# Figure 5.22\n",
    "\n",
    "(p + geom_point() +\n",
    "     annotate(geom = 'rect', xmin = 125, xmax = 155, ymin = 30, ymax = 35, \n",
    "              fill = 'red', alpha = 0.2) +\n",
    "     annotate(geom = 'text', x = 157, y = 33, \n",
    "              label = 'A surprisingly high\\nrecovery rate',\n",
    "              ha = 'left')\n",
    ")"
   ]
  },
  {
   "cell_type": "markdown",
   "id": "3f2a8db2",
   "metadata": {},
   "source": [
    "### 5.6 Understanding scales, guides, and themes"
   ]
  },
  {
   "cell_type": "code",
   "execution_count": null,
   "id": "cc64f242",
   "metadata": {},
   "outputs": [],
   "source": [
    "# Figure 5.23\n",
    "\n",
    "p = ggplot(data = organdata,\n",
    "           mapping = aes(x = 'roads',\n",
    "                         y = 'donors',\n",
    "                         color = 'world'))\n",
    "\n",
    "p + geom_point()"
   ]
  },
  {
   "cell_type": "code",
   "execution_count": null,
   "id": "1e65f02c",
   "metadata": {},
   "outputs": [],
   "source": [
    "# Figure 5.25\n",
    "\n",
    "(p + geom_point() +\n",
    "     scale_x_log10() + \n",
    "     scale_y_continuous(breaks = (5, 15, 25),\n",
    "                        labels = ('Five', 'Fifteen', 'Twentyfive'))\n",
    ")"
   ]
  },
  {
   "cell_type": "code",
   "execution_count": null,
   "id": "6614f2a7",
   "metadata": {},
   "outputs": [],
   "source": [
    "# Figure 5.26\n",
    "\n",
    "(p + geom_point() +\n",
    "     scale_color_discrete(labels = ('Corporatist', 'Liberal', 'Social Democratic', 'Unclassified')) +\n",
    "     labs(x = 'Road deaths', y = 'Donor procurement', color = 'Welfare state') \n",
    ")"
   ]
  },
  {
   "cell_type": "code",
   "execution_count": null,
   "id": "6b5dc441",
   "metadata": {},
   "outputs": [],
   "source": [
    "# Figure 5.27\n",
    "\n",
    "(p + geom_point() +\n",
    "     labs(x = 'Road deaths', y = 'Donor procurement') +\n",
    "     guides(color = False)\n",
    ")"
   ]
  },
  {
   "cell_type": "code",
   "execution_count": null,
   "id": "926b2abb",
   "metadata": {},
   "outputs": [],
   "source": []
  },
  {
   "cell_type": "markdown",
   "id": "ba774acb",
   "metadata": {},
   "source": [
    "### This completes the figures for chapter 5"
   ]
  },
  {
   "cell_type": "code",
   "execution_count": null,
   "id": "035118ec",
   "metadata": {},
   "outputs": [],
   "source": []
  }
 ],
 "metadata": {
  "kernelspec": {
   "display_name": "Python 3 (ipykernel)",
   "language": "python",
   "name": "python3"
  },
  "language_info": {
   "codemirror_mode": {
    "name": "ipython",
    "version": 3
   },
   "file_extension": ".py",
   "mimetype": "text/x-python",
   "name": "python",
   "nbconvert_exporter": "python",
   "pygments_lexer": "ipython3",
   "version": "3.9.9"
  }
 },
 "nbformat": 4,
 "nbformat_minor": 5
}
