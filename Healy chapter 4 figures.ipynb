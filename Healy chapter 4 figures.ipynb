{
 "cells": [
  {
   "cell_type": "markdown",
   "id": "f598e604",
   "metadata": {},
   "source": [
    "# Healy chapter 4 figures (2022-09-02)\n",
    "\n",
    "_by A. Maurits van der Veen_  \n",
    "\n",
    "_Modification history:_  \n",
    "_2022-08-23 - Initial version_  \n",
    "\n",
    "This notebook provides python code to parallel the R code in Healy's Data Visualization book. \n",
    "\n",
    "It uses the `plotnine` module in python, which replicates most of ggplot.\n"
   ]
  },
  {
   "cell_type": "markdown",
   "id": "d8c6fd6a",
   "metadata": {},
   "source": [
    "## 0. General preparation\n",
    "\n",
    "The code relies on several python modules, which may need to be installed first. To do so, uncomment the next X code snippets.\n",
    "\n",
    "- `plotnine` is the main module replicating \n",
    "- `mizani` provides axis label formatting\n",
    "- `pyreadr` reads R-format datasets\n"
   ]
  },
  {
   "cell_type": "code",
   "execution_count": null,
   "id": "c6a8d399",
   "metadata": {
    "scrolled": true
   },
   "outputs": [],
   "source": [
    "# !pip install plotnine\n"
   ]
  },
  {
   "cell_type": "code",
   "execution_count": null,
   "id": "b801a52f",
   "metadata": {
    "scrolled": true
   },
   "outputs": [],
   "source": [
    "# !pip install mizani\n"
   ]
  },
  {
   "cell_type": "code",
   "execution_count": null,
   "id": "3ed81a4d",
   "metadata": {},
   "outputs": [],
   "source": [
    "# !pip install pyreadr\n"
   ]
  },
  {
   "cell_type": "code",
   "execution_count": null,
   "id": "6ece4d72",
   "metadata": {},
   "outputs": [],
   "source": [
    "import math\n",
    "import numpy as np\n",
    "\n",
    "import pandas as pd\n",
    "# import geopandas as gpd  # Not necessary until chapter 7\n",
    "\n",
    "import matplotlib.pyplot as plt\n",
    "\n",
    "from plotnine import *  # alternative: import plotnine as p9 and always use prefix\n",
    "from mizani.formatters import currency_format\n",
    "\n",
    "import pyreadr\n"
   ]
  },
  {
   "cell_type": "markdown",
   "id": "4a88c939",
   "metadata": {},
   "source": [
    "## Chapter 4 - Show the right numbers\n",
    "\n",
    "The headings below correspond to chapter sections in the book. If a heading number is skipped (as is the case for 4.1 here), that is because there are no figures in those sections."
   ]
  },
  {
   "cell_type": "code",
   "execution_count": null,
   "id": "e8949518",
   "metadata": {},
   "outputs": [],
   "source": [
    "localfolder = '/Users/yourname/Downloads/'  # Change to local path\n"
   ]
  },
  {
   "cell_type": "code",
   "execution_count": null,
   "id": "7e1c1a0f",
   "metadata": {},
   "outputs": [],
   "source": [
    "# Retrieve & load gapminder data\n",
    "\n",
    "remotefolder = 'https://github.com/jennybc/gapminder/blob/main/data/'\n",
    "\n",
    "targetfile = 'gapminder.rdata'\n",
    "pyreadr.download_file(remotefolder + targetfile + '?raw=true', \n",
    "                      localfolder + targetfile)\n",
    "newdata = pyreadr.read_r(localfolder + targetfile)\n",
    "gapminder = newdata['gapminder']\n"
   ]
  },
  {
   "cell_type": "code",
   "execution_count": null,
   "id": "d175d706",
   "metadata": {},
   "outputs": [],
   "source": [
    "# Retrieve & load data from the website associated with Healy's book\n",
    "\n",
    "remotefolder = 'https://github.com/kjhealy/socviz/blob/master/data/'\n",
    "\n",
    "# The following is a bit repetitive, but necessary because python doesn't like passing by reference\n",
    "\n",
    "datasetname = 'gss_sm'\n",
    "targetfile = datasetname + '.rda'\n",
    "pyreadr.download_file(remotefolder + targetfile + '?raw=true', localfolder + targetfile)\n",
    "newdata = pyreadr.read_r(localfolder + targetfile)\n",
    "gss_sm = newdata[datasetname]\n",
    "\n",
    "datasetname = 'titanic'\n",
    "targetfile = datasetname + '.rda'\n",
    "pyreadr.download_file(remotefolder + targetfile + '?raw=true', localfolder + targetfile)\n",
    "newdata = pyreadr.read_r(localfolder + targetfile)\n",
    "titanic = newdata[datasetname]\n",
    "\n",
    "datasetname = 'oecd_sum'\n",
    "targetfile = datasetname + '.rda'\n",
    "pyreadr.download_file(remotefolder + targetfile + '?raw=true', localfolder + targetfile)\n",
    "newdata = pyreadr.read_r(localfolder + targetfile)\n",
    "oecd_sum = newdata[datasetname]\n"
   ]
  },
  {
   "cell_type": "code",
   "execution_count": null,
   "id": "6aea2b29",
   "metadata": {},
   "outputs": [],
   "source": [
    "# Retrieve & load data that comes with ggplot\n",
    "\n",
    "remotefolder = 'https://github.com/tidyverse/ggplot2/blob/main/data/'\n",
    "\n",
    "datasetname = 'midwest'\n",
    "targetfile = datasetname + '.rda'\n",
    "pyreadr.download_file(remotefolder + targetfile + '?raw=true', localfolder + targetfile)\n",
    "newdata = pyreadr.read_r(localfolder + targetfile)\n",
    "midwest = newdata[datasetname]\n"
   ]
  },
  {
   "cell_type": "markdown",
   "id": "a420f472",
   "metadata": {},
   "source": [
    "### 4.2 Grouped data and the 'group' aesthetic"
   ]
  },
  {
   "cell_type": "code",
   "execution_count": null,
   "id": "1202aa98",
   "metadata": {},
   "outputs": [],
   "source": [
    "# Figure 4.1\n",
    "\n",
    "p = ggplot(data = gapminder,\n",
    "           mapping = aes(x = 'year', y = 'gdpPercap'))\n",
    "p + geom_line()"
   ]
  },
  {
   "cell_type": "code",
   "execution_count": null,
   "id": "2029e05f",
   "metadata": {},
   "outputs": [],
   "source": [
    "# Figure 4.2\n",
    "\n",
    "p = ggplot(data = gapminder,\n",
    "           mapping = aes(x = 'year', y = 'gdpPercap'))\n",
    "p + geom_line(aes(group = 'country'))"
   ]
  },
  {
   "cell_type": "markdown",
   "id": "381977ee",
   "metadata": {},
   "source": [
    "### 4.3 Facet to make small multiples"
   ]
  },
  {
   "cell_type": "code",
   "execution_count": null,
   "id": "8cfb7de3",
   "metadata": {},
   "outputs": [],
   "source": [
    "# Figure 4.3\n",
    "# Note that the default is not to display in a single column, as in Healy's book\n",
    "\n",
    "p + geom_line(aes(group = 'country')) +\\\n",
    "    facet_wrap('continent')"
   ]
  },
  {
   "cell_type": "code",
   "execution_count": null,
   "id": "8877acc0",
   "metadata": {},
   "outputs": [],
   "source": [
    "# Figure 4.3, in a single column\n",
    "# Here we use the ncol parameter to specify number of columns,\n",
    "# and the figure_size theme parameter to adjust figure size\n",
    "\n",
    "p + geom_line(aes(group = 'country')) +\\\n",
    "    facet_wrap('continent', ncol = 1) +\\\n",
    "    theme(figure_size = (3, 10))"
   ]
  },
  {
   "cell_type": "code",
   "execution_count": null,
   "id": "28c197d6",
   "metadata": {},
   "outputs": [],
   "source": [
    "# Figure 4.4\n",
    "# In Healy's book, the smoothed line is bluish, but there is no code to specify that\n",
    "\n",
    "p + geom_line(color='gray', mapping=aes(group = 'country')) + \\\n",
    "    geom_smooth(size=1.1, method='loess', se=False, color='darkblue') + \\\n",
    "    scale_y_log10(labels = currency_format(digits=0, big_mark=',')) + \\\n",
    "    facet_wrap('continent', ncol=5) + \\\n",
    "    labs(x = 'Year',\n",
    "         y = 'GDP per capita',\n",
    "         title = 'GDP per capita on five continents') + \\\n",
    "    theme(figure_size = (10, 3))"
   ]
  },
  {
   "cell_type": "code",
   "execution_count": null,
   "id": "7033bd90",
   "metadata": {},
   "outputs": [],
   "source": [
    "# Figure 4.5 (note: new dataset)\n",
    "\n",
    "p = ggplot(data = gss_sm, mapping = aes(x = 'age', y = 'childs'))\n",
    "p + geom_point(alpha = 0.2) + \\\n",
    "    geom_smooth(method = 'loess') + \\\n",
    "    facet_grid(('sex', 'race'))"
   ]
  },
  {
   "cell_type": "markdown",
   "id": "2a7cfa20",
   "metadata": {},
   "source": [
    "### 4.4 Geoms can transform data"
   ]
  },
  {
   "cell_type": "code",
   "execution_count": null,
   "id": "5c3173fa",
   "metadata": {},
   "outputs": [],
   "source": [
    "# Figure 4.6\n",
    "# Note that the default sorting here is alphabetic by region name\n",
    "# For an example of forcing a different sort order, see:\n",
    "# https://plotnine.readthedocs.io/en/stable/tutorials/miscellaneous-order-plot-series.html\n",
    "\n",
    "p = ggplot(data = gss_sm, mapping = aes(x='bigregion'))\n",
    "p + geom_bar()"
   ]
  },
  {
   "cell_type": "code",
   "execution_count": null,
   "id": "0e8959de",
   "metadata": {},
   "outputs": [],
   "source": [
    "# Figure 4.7\n",
    "\n",
    "p = ggplot(data = gss_sm, mapping = aes(x='bigregion', y='..prop..'))\n",
    "p + geom_bar()"
   ]
  },
  {
   "cell_type": "code",
   "execution_count": null,
   "id": "ee3c5993",
   "metadata": {},
   "outputs": [],
   "source": [
    "# Figure 4.8\n",
    "\n",
    "p = ggplot(data = gss_sm, mapping = aes(x='bigregion', y='..prop..', group = 1))\n",
    "p + geom_bar()"
   ]
  },
  {
   "cell_type": "code",
   "execution_count": null,
   "id": "c9296a72",
   "metadata": {},
   "outputs": [],
   "source": [
    "# Figure 4.8 again, now showing both count and percentages\n",
    "# This shows off the 'after_stat' option in plotnine\n",
    "\n",
    "# Info on the use of geom_text:\n",
    "# https://plotnine.readthedocs.io/en/stable/tutorials/miscellaneous-show-counts-and-percentages-for-bar-plots.html\n",
    "\n",
    "p = ggplot(data = gss_sm, mapping = aes(x='bigregion'))\n",
    "p + geom_bar() + \\\n",
    "    geom_text(\n",
    "     aes(label=after_stat('prop*100'), group=1),\n",
    "     stat='count',\n",
    "     nudge_y=0.125,\n",
    "     va='bottom',\n",
    "     format_string='{:.1f}%'\n",
    " )\n"
   ]
  },
  {
   "cell_type": "code",
   "execution_count": null,
   "id": "be99ce9a",
   "metadata": {},
   "outputs": [],
   "source": [
    "# Figure 4.9a -- a first, failed, attempt\n",
    "# Note that a missing/null value for religion is not handled well\n",
    "# To fix: replace nulls by the string 'NA', or else simply eliminate them\n",
    "# See the code snippets below\n",
    "\n",
    "p = ggplot(data = gss_sm, mapping = aes(x = 'religion', color = 'religion'))\n",
    "\n",
    "p + geom_bar()"
   ]
  },
  {
   "cell_type": "code",
   "execution_count": null,
   "id": "5573b141",
   "metadata": {},
   "outputs": [],
   "source": [
    "# Option 1 -- remove observations with a Null religion\n",
    "\n",
    "religions = ['Protestant', 'Catholic', 'Jewish', 'None', 'Other']\n",
    "\n",
    "gss_smX = gss_sm[gss_sm['religion'].isin(religions)]\n"
   ]
  },
  {
   "cell_type": "code",
   "execution_count": null,
   "id": "85bd47ab",
   "metadata": {},
   "outputs": [],
   "source": [
    "len(gss_sm)"
   ]
  },
  {
   "cell_type": "code",
   "execution_count": null,
   "id": "6018945b",
   "metadata": {},
   "outputs": [],
   "source": [
    "len(gss_smX)  # 18 observations have been deleted"
   ]
  },
  {
   "cell_type": "code",
   "execution_count": null,
   "id": "87a048cf",
   "metadata": {},
   "outputs": [],
   "source": [
    "# Figure 4.9a, excluding the missing values for religion\n",
    "# Note again the alphabetic sorting of the bars, by religion name\n",
    "\n",
    "p = ggplot(data = gss_smX, mapping = aes(x='religion', color='religion'))\n",
    "p + geom_bar() + guides(fill=False) "
   ]
  },
  {
   "cell_type": "code",
   "execution_count": null,
   "id": "98c87552",
   "metadata": {},
   "outputs": [],
   "source": [
    "# Option 2 -- replace Null religion by 'NA': now NA will get plotted, as in the book\n",
    "\n",
    "religions = ['Protestant', 'Catholic', 'Jewish', 'None', 'Other']\n",
    "\n",
    "gss_smY = gss_sm.copy()\n",
    "gss_smY['religion'] = gss_smY.apply(lambda row: 'NA' if row['religion'] not in religions else row['religion'], axis=1)"
   ]
  },
  {
   "cell_type": "code",
   "execution_count": null,
   "id": "e8a44a36",
   "metadata": {},
   "outputs": [],
   "source": [
    "# Figure 4.9a, now showing missing religion values as 'NA'\n",
    "\n",
    "p = ggplot(data = gss_smY, mapping = aes(x='religion', color='religion'))\n",
    "\n",
    "p + geom_bar()"
   ]
  },
  {
   "cell_type": "code",
   "execution_count": null,
   "id": "a3960d70",
   "metadata": {},
   "outputs": [],
   "source": [
    "# Figure 4.9b\n",
    "\n",
    "p = ggplot(data = gss_smY, mapping = aes(x='religion', fill='religion'))\n",
    "\n",
    "p + geom_bar() + guides(fill=False) "
   ]
  },
  {
   "cell_type": "markdown",
   "id": "c027354d",
   "metadata": {},
   "source": [
    "### 4.5 Frequency plots the slightly awkward way"
   ]
  },
  {
   "cell_type": "code",
   "execution_count": null,
   "id": "8a18ae0c",
   "metadata": {},
   "outputs": [],
   "source": [
    "# Figure 4.10\n",
    "\n",
    "p = ggplot(data = gss_smX, mapping = aes(x='bigregion', fill='religion'))\n",
    "\n",
    "p + geom_bar() "
   ]
  },
  {
   "cell_type": "code",
   "execution_count": null,
   "id": "89b8ffa0",
   "metadata": {},
   "outputs": [],
   "source": [
    "# Figure 4.11\n",
    "\n",
    "p = ggplot(data = gss_smX, mapping = aes(x='bigregion', fill='religion'))\n",
    "\n",
    "p + geom_bar(position='fill') "
   ]
  },
  {
   "cell_type": "code",
   "execution_count": null,
   "id": "a7080927",
   "metadata": {},
   "outputs": [],
   "source": [
    "# Figure 4.12, using the version of the dataset with NA\n",
    "\n",
    "p = ggplot(data = gss_smX, \n",
    "           mapping = aes(x='bigregion', fill='religion'))\n",
    "\n",
    "p + geom_bar(position='dodge', mapping=aes(y = '..prop..')) "
   ]
  },
  {
   "cell_type": "code",
   "execution_count": null,
   "id": "2e2c48ce",
   "metadata": {},
   "outputs": [],
   "source": [
    "# Figure 4.13\n",
    "\n",
    "p + geom_bar(position='dodge', mapping=aes(y = '..prop..', group = 'religion')) "
   ]
  },
  {
   "cell_type": "code",
   "execution_count": null,
   "id": "a14a7182",
   "metadata": {},
   "outputs": [],
   "source": [
    "# Figure 4.13 again, now using the after_stat option\n",
    "# (more info: https://plotnine.readthedocs.io/en/latest/generated/plotnine.mapping.after_stat.html)\n",
    "    \n",
    "p + geom_bar(position='dodge', mapping=aes(y = after_stat('prop'), group = 'religion')) "
   ]
  },
  {
   "cell_type": "code",
   "execution_count": null,
   "id": "41b761b5",
   "metadata": {},
   "outputs": [],
   "source": [
    "# Figure 4.14\n",
    "\n",
    "p = ggplot(data = gss_smX, mapping = aes(x='religion'))\n",
    "\n",
    "p + geom_bar(position='dodge', \n",
    "             mapping = aes(y = after_stat('prop'), group = 'bigregion')) + \\\n",
    "    facet_wrap('bigregion', ncol=2)"
   ]
  },
  {
   "cell_type": "markdown",
   "id": "da16ba5e",
   "metadata": {},
   "source": [
    "### 4.6 Histograms and density plots"
   ]
  },
  {
   "cell_type": "code",
   "execution_count": null,
   "id": "6f752619",
   "metadata": {},
   "outputs": [],
   "source": [
    "# Figure 4.15a\n",
    "\n",
    "p = ggplot(data = midwest, mapping = aes(x = 'area'))\n",
    "p + geom_histogram()"
   ]
  },
  {
   "cell_type": "code",
   "execution_count": null,
   "id": "0abc5a2f",
   "metadata": {},
   "outputs": [],
   "source": [
    "# Figure 4.15b\n",
    "\n",
    "p = ggplot(data = midwest, mapping = aes(x = 'area'))\n",
    "p + geom_histogram(bins=10)"
   ]
  },
  {
   "cell_type": "code",
   "execution_count": null,
   "id": "e2959ca2",
   "metadata": {},
   "outputs": [],
   "source": [
    "# Define a subset of the data \n",
    "# Note: could also do this on the fly, by simply copying the subset spec to \n",
    "# the \"data =\" statement in ggplot below\n",
    "\n",
    "midwest_OH_WI = midwest[midwest['state'].isin(('OH', 'WI'))]"
   ]
  },
  {
   "cell_type": "code",
   "execution_count": null,
   "id": "f40396cb",
   "metadata": {},
   "outputs": [],
   "source": [
    "# Figure 4.16\n",
    "\n",
    "p = ggplot(data = midwest_OH_WI, mapping = aes(x = 'percollege', fill='state'))\n",
    "p + geom_histogram(alpha = 0.4, bins = 20)"
   ]
  },
  {
   "cell_type": "code",
   "execution_count": null,
   "id": "74e67854",
   "metadata": {},
   "outputs": [],
   "source": [
    "# Figure 4.17\n",
    "\n",
    "p = ggplot(data = midwest, mapping = aes(x = 'area'))\n",
    "p + geom_density()"
   ]
  },
  {
   "cell_type": "code",
   "execution_count": null,
   "id": "50c3870b",
   "metadata": {},
   "outputs": [],
   "source": [
    "# Figure 4.18\n",
    "\n",
    "p = ggplot(data = midwest, mapping = aes(x = 'area', fill='state', color='state'))\n",
    "p + geom_density(alpha = 0.3)"
   ]
  },
  {
   "cell_type": "code",
   "execution_count": null,
   "id": "bbb0313b",
   "metadata": {},
   "outputs": [],
   "source": [
    "# Figure 4.19\n",
    "\n",
    "p = ggplot(data = midwest_OH_WI, mapping = aes(x = 'area', fill='state', color='state'))\n",
    "p + geom_density(alpha = 0.3, mapping = aes(y = after_stat('scaled')))"
   ]
  },
  {
   "cell_type": "markdown",
   "id": "0e414048",
   "metadata": {},
   "source": [
    "### 4.7 Avoid transformations when necessary"
   ]
  },
  {
   "cell_type": "code",
   "execution_count": null,
   "id": "8b5d9b83",
   "metadata": {},
   "outputs": [],
   "source": [
    "# Figure 4.20\n",
    "\n",
    "p = ggplot(data=titanic, \n",
    "           mapping = aes(x = 'fate', y = 'percent', fill='sex'))\n",
    "\n",
    "p + geom_bar(position = 'dodge', stat = 'identity') + \\\n",
    "    theme(legend_position = 'top')"
   ]
  },
  {
   "cell_type": "code",
   "execution_count": null,
   "id": "452adb16",
   "metadata": {},
   "outputs": [],
   "source": [
    "# Figure 4.21\n",
    "# Note: to create a true subtitle, export to matplotlib and add subtitle there\n",
    "# (see example in chapter 3 notebook)\n",
    "\n",
    "p = ggplot(data = oecd_sum, \n",
    "           mapping = aes(x = 'year', y = 'diff', fill = 'hi_lo'))\n",
    "\n",
    "p + geom_col() + \\\n",
    "    guides(fill = False) + \\\n",
    "    labs(x = '',\n",
    "         y = 'Difference in Years',\n",
    "         title = 'The US life expectancy gap\\nDifference between US and OECD average life expectancies, 1960-2015',\n",
    "         caption = 'Data: OECD. After a chart by Christopher Ingaham,\\nWashington Post, December 27th 2017.') + \\\n",
    "    theme(figure_size = (10, 3))\n"
   ]
  },
  {
   "cell_type": "code",
   "execution_count": null,
   "id": "c9a91ee9",
   "metadata": {},
   "outputs": [],
   "source": []
  },
  {
   "cell_type": "markdown",
   "id": "86b9ac30",
   "metadata": {},
   "source": [
    "### This completes the figures for chapter 4"
   ]
  },
  {
   "cell_type": "code",
   "execution_count": null,
   "id": "77b36ed3",
   "metadata": {},
   "outputs": [],
   "source": []
  }
 ],
 "metadata": {
  "kernelspec": {
   "display_name": "Python 3 (ipykernel)",
   "language": "python",
   "name": "python3"
  },
  "language_info": {
   "codemirror_mode": {
    "name": "ipython",
    "version": 3
   },
   "file_extension": ".py",
   "mimetype": "text/x-python",
   "name": "python",
   "nbconvert_exporter": "python",
   "pygments_lexer": "ipython3",
   "version": "3.9.9"
  }
 },
 "nbformat": 4,
 "nbformat_minor": 5
}
